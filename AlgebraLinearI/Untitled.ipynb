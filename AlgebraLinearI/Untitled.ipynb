{
 "cells": [
  {
   "cell_type": "code",
   "execution_count": 30,
   "id": "f0060f3a-fa1a-4650-bce6-c8ac4e78b24d",
   "metadata": {},
   "outputs": [],
   "source": [
    "from sympy import *\n",
    "\n",
    "def elementary_matrix( n, i, j ):\n",
    "    mat = Matrix.zeros( n, n )\n",
    "    mat[i,j] = 1\n",
    "    return mat\n",
    "\n",
    "def matrix_of_matrix_mult( A ):\n",
    "     \n",
    "    n = A.rows\n",
    "    mat = Matrix.zeros(n**2, n**2)\n",
    "    for i in range( n ):\n",
    "        for j in range( n ):\n",
    "            # put in the coordinates of E_{i,j}\n",
    "            mat[j*n:(j+1)*n,j*n+i] = A[:,i]\n",
    "\n",
    "    return mat"
   ]
  },
  {
   "cell_type": "code",
   "execution_count": 31,
   "id": "74a9df1e-4ceb-4735-9875-38bbd10be813",
   "metadata": {},
   "outputs": [],
   "source": [
    "m = Matrix( [[1,0,1],[0,1,0],[1,0,1]] )"
   ]
  },
  {
   "cell_type": "code",
   "execution_count": 32,
   "id": "2adfac05-915b-4609-8bf2-8b341f85e72b",
   "metadata": {},
   "outputs": [],
   "source": [
    "mm = matrix_of_matrix_mult( m )"
   ]
  },
  {
   "cell_type": "code",
   "execution_count": 33,
   "id": "b4da03af-8b5c-4377-965c-5ddab79cb39e",
   "metadata": {},
   "outputs": [],
   "source": [
    "cm = m.charpoly()"
   ]
  },
  {
   "cell_type": "code",
   "execution_count": 34,
   "id": "31f46d3b-900d-4f37-9211-1955ca073827",
   "metadata": {},
   "outputs": [],
   "source": [
    "cmm = mm.charpoly()"
   ]
  },
  {
   "cell_type": "code",
   "execution_count": 35,
   "id": "05a4dab3-4272-472d-b977-d6a52f71dc94",
   "metadata": {},
   "outputs": [
    {
     "data": {
      "text/plain": [
       "(1,\n",
       " [(PurePoly(lambda - 2, lambda, domain='ZZ'), 3),\n",
       "  (PurePoly(lambda - 1, lambda, domain='ZZ'), 3),\n",
       "  (PurePoly(lambda, lambda, domain='ZZ'), 3)])"
      ]
     },
     "execution_count": 35,
     "metadata": {},
     "output_type": "execute_result"
    }
   ],
   "source": [
    "cmm.factor_list()"
   ]
  },
  {
   "cell_type": "code",
   "execution_count": 36,
   "id": "98a58204-bdbb-4dba-b818-e30495c3c1a8",
   "metadata": {},
   "outputs": [
    {
     "data": {
      "text/plain": [
       "{2: 1, 0: 1, 1: 1}"
      ]
     },
     "execution_count": 36,
     "metadata": {},
     "output_type": "execute_result"
    }
   ],
   "source": [
    "m.eigenvals()"
   ]
  },
  {
   "cell_type": "code",
   "execution_count": 37,
   "id": "14393cf1-3b3f-4d06-8fb6-40e711d0c0c6",
   "metadata": {},
   "outputs": [
    {
     "data": {
      "text/plain": [
       "{2: 3, 0: 3, 1: 3}"
      ]
     },
     "execution_count": 37,
     "metadata": {},
     "output_type": "execute_result"
    }
   ],
   "source": [
    "mm.eigenvals()"
   ]
  },
  {
   "cell_type": "code",
   "execution_count": 38,
   "id": "23370cfc-b0a3-4aad-a692-5cceea8674ac",
   "metadata": {},
   "outputs": [
    {
     "data": {
      "text/latex": [
       "$\\displaystyle \\left[\\begin{matrix}1 & 0 & 1 & 0 & 0 & 0 & 0 & 0 & 0\\\\0 & 1 & 0 & 0 & 0 & 0 & 0 & 0 & 0\\\\1 & 0 & 1 & 0 & 0 & 0 & 0 & 0 & 0\\\\0 & 0 & 0 & 1 & 0 & 1 & 0 & 0 & 0\\\\0 & 0 & 0 & 0 & 1 & 0 & 0 & 0 & 0\\\\0 & 0 & 0 & 1 & 0 & 1 & 0 & 0 & 0\\\\0 & 0 & 0 & 0 & 0 & 0 & 1 & 0 & 1\\\\0 & 0 & 0 & 0 & 0 & 0 & 0 & 1 & 0\\\\0 & 0 & 0 & 0 & 0 & 0 & 1 & 0 & 1\\end{matrix}\\right]$"
      ],
      "text/plain": [
       "Matrix([\n",
       "[1, 0, 1, 0, 0, 0, 0, 0, 0],\n",
       "[0, 1, 0, 0, 0, 0, 0, 0, 0],\n",
       "[1, 0, 1, 0, 0, 0, 0, 0, 0],\n",
       "[0, 0, 0, 1, 0, 1, 0, 0, 0],\n",
       "[0, 0, 0, 0, 1, 0, 0, 0, 0],\n",
       "[0, 0, 0, 1, 0, 1, 0, 0, 0],\n",
       "[0, 0, 0, 0, 0, 0, 1, 0, 1],\n",
       "[0, 0, 0, 0, 0, 0, 0, 1, 0],\n",
       "[0, 0, 0, 0, 0, 0, 1, 0, 1]])"
      ]
     },
     "execution_count": 38,
     "metadata": {},
     "output_type": "execute_result"
    }
   ],
   "source": [
    "mm"
   ]
  },
  {
   "cell_type": "code",
   "execution_count": 82,
   "id": "08e92683-7970-4641-937e-5f6e1a5b373b",
   "metadata": {},
   "outputs": [],
   "source": [
    "def adjacency_matrix( n, edge_list ):\n",
    "    mat = Matrix.zeros( n, n )\n",
    "    for e in edge_list:\n",
    "        mat[e[0],e[1]] = mat[e[1],e[0]] = 1\n",
    "        \n",
    "    return mat\n",
    "\n",
    "def laplacian( mat ):\n",
    "    lap_mat = mat.copy()\n",
    "    n = mat.rows\n",
    "    for i in range( n ):\n",
    "        lap_mat[i,i] = -sum( mat[i,:] )\n",
    "    return -lap_mat\n",
    "\n",
    "def degree_matrix( mat ):\n",
    "\n",
    "    n = mat.rows\n",
    "    deg_mat = Matrix.zeros( n, n )\n",
    "    for i in range( n ):\n",
    "        deg_mat[i,i] = sum( mat[i,:] )\n",
    "\n",
    "    return deg_mat\n",
    "    "
   ]
  },
  {
   "cell_type": "code",
   "execution_count": 83,
   "id": "5a2a8bdf-a654-429d-a6c0-d6eef0196d79",
   "metadata": {},
   "outputs": [],
   "source": [
    "edges = [(0,1),(1,2),(2,3)]\n",
    "adj = adjacency_matrix( 4, edges )\n"
   ]
  },
  {
   "cell_type": "code",
   "execution_count": 84,
   "id": "043f53ef-46ea-4a56-bce9-e1b524722f33",
   "metadata": {},
   "outputs": [],
   "source": [
    "lap = laplacian( adj )"
   ]
  },
  {
   "cell_type": "code",
   "execution_count": 85,
   "id": "d47d094d-cfe6-4aa8-87d7-6d7261b4a0a9",
   "metadata": {},
   "outputs": [
    {
     "data": {
      "text/plain": [
       "{2: 1, 2 - sqrt(2): 1, sqrt(2) + 2: 1, 0: 1}"
      ]
     },
     "execution_count": 85,
     "metadata": {},
     "output_type": "execute_result"
    }
   ],
   "source": [
    "lap.eigenvals()"
   ]
  },
  {
   "cell_type": "code",
   "execution_count": 86,
   "id": "ede9537a-64bb-414c-b330-78516c263b19",
   "metadata": {},
   "outputs": [
    {
     "data": {
      "text/latex": [
       "$\\displaystyle \\left[\\begin{matrix}1 & 0 & 0 & 0\\\\0 & 2 & 0 & 0\\\\0 & 0 & 2 & 0\\\\0 & 0 & 0 & 1\\end{matrix}\\right]$"
      ],
      "text/plain": [
       "Matrix([\n",
       "[1, 0, 0, 0],\n",
       "[0, 2, 0, 0],\n",
       "[0, 0, 2, 0],\n",
       "[0, 0, 0, 1]])"
      ]
     },
     "execution_count": 86,
     "metadata": {},
     "output_type": "execute_result"
    }
   ],
   "source": [
    "degree_matrix( adj )"
   ]
  },
  {
   "cell_type": "code",
   "execution_count": 87,
   "id": "85747164-e1f4-4f63-8029-1408a6180f13",
   "metadata": {},
   "outputs": [
    {
     "data": {
      "text/latex": [
       "$\\displaystyle \\left[\\begin{matrix}0 & 1 & 0 & 0\\\\1 & 0 & 1 & 0\\\\0 & 1 & 0 & 1\\\\0 & 0 & 1 & 0\\end{matrix}\\right]$"
      ],
      "text/plain": [
       "Matrix([\n",
       "[0, 1, 0, 0],\n",
       "[1, 0, 1, 0],\n",
       "[0, 1, 0, 1],\n",
       "[0, 0, 1, 0]])"
      ]
     },
     "execution_count": 87,
     "metadata": {},
     "output_type": "execute_result"
    }
   ],
   "source": [
    "adj"
   ]
  },
  {
   "cell_type": "code",
   "execution_count": null,
   "id": "49f57681-8338-4b0a-b789-ace55ce4a9ef",
   "metadata": {},
   "outputs": [],
   "source": []
  }
 ],
 "metadata": {
  "kernelspec": {
   "display_name": "Python 3 (ipykernel)",
   "language": "python",
   "name": "python3"
  },
  "language_info": {
   "codemirror_mode": {
    "name": "ipython",
    "version": 3
   },
   "file_extension": ".py",
   "mimetype": "text/x-python",
   "name": "python",
   "nbconvert_exporter": "python",
   "pygments_lexer": "ipython3",
   "version": "3.12.6"
  }
 },
 "nbformat": 4,
 "nbformat_minor": 5
}
